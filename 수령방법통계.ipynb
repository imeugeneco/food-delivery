{
 "cells": [
  {
   "cell_type": "code",
   "execution_count": 1,
   "metadata": {},
   "outputs": [
    {
     "data": {
      "text/html": [
       "<div>\n",
       "<style scoped>\n",
       "    .dataframe tbody tr th:only-of-type {\n",
       "        vertical-align: middle;\n",
       "    }\n",
       "\n",
       "    .dataframe tbody tr th {\n",
       "        vertical-align: top;\n",
       "    }\n",
       "\n",
       "    .dataframe thead th {\n",
       "        text-align: right;\n",
       "    }\n",
       "</style>\n",
       "<table border=\"1\" class=\"dataframe\">\n",
       "  <thead>\n",
       "    <tr style=\"text-align: right;\">\n",
       "      <th></th>\n",
       "      <th>주문번호</th>\n",
       "      <th>수령방법</th>\n",
       "      <th>결제방법</th>\n",
       "      <th>항목</th>\n",
       "      <th>추가선택</th>\n",
       "      <th>드레싱</th>\n",
       "      <th>서비스타입</th>\n",
       "      <th>주문금액</th>\n",
       "      <th>배달팁</th>\n",
       "      <th>결제금액</th>\n",
       "      <th>주문시각</th>\n",
       "      <th>접수시각</th>\n",
       "      <th>배달시각</th>\n",
       "      <th>주소</th>\n",
       "      <th>요청사항</th>\n",
       "      <th>배달요청사항</th>\n",
       "    </tr>\n",
       "  </thead>\n",
       "  <tbody>\n",
       "    <tr>\n",
       "      <th>0</th>\n",
       "      <td>B0KB00H8UL</td>\n",
       "      <td>배달</td>\n",
       "      <td>바로결제</td>\n",
       "      <td>훈제연어 샐러드, 훈제연어 샐러드</td>\n",
       "      <td>NaN</td>\n",
       "      <td>렌치</td>\n",
       "      <td>배민</td>\n",
       "      <td>18800</td>\n",
       "      <td>2000</td>\n",
       "      <td>20800</td>\n",
       "      <td>2020-01-02 17:58:18</td>\n",
       "      <td>2020-01-02 18:00:26</td>\n",
       "      <td>2020-01-02 18:40:26</td>\n",
       "      <td>전북 전주시 덕진구 금암1동 ****</td>\n",
       "      <td>NaN</td>\n",
       "      <td>[]</td>\n",
       "    </tr>\n",
       "    <tr>\n",
       "      <th>1</th>\n",
       "      <td>B0KC005QKF</td>\n",
       "      <td>배달</td>\n",
       "      <td>바로결제</td>\n",
       "      <td>닭가슴살 샐러드, 훈제연어 샐러드</td>\n",
       "      <td>NaN</td>\n",
       "      <td>오리엔탈, 렌치</td>\n",
       "      <td>배민</td>\n",
       "      <td>11900</td>\n",
       "      <td>3000</td>\n",
       "      <td>14900</td>\n",
       "      <td>2020-01-03 11:56:51</td>\n",
       "      <td>2020-01-03 11:57:13</td>\n",
       "      <td>2020-01-03 12:37:13</td>\n",
       "      <td>전북 전주시 덕진구 덕진동 ****</td>\n",
       "      <td>NaN</td>\n",
       "      <td>[]</td>\n",
       "    </tr>\n",
       "  </tbody>\n",
       "</table>\n",
       "</div>"
      ],
      "text/plain": [
       "         주문번호 수령방법  결제방법                  항목 추가선택       드레싱 서비스타입   주문금액  \\\n",
       "0  B0KB00H8UL   배달  바로결제  훈제연어 샐러드, 훈제연어 샐러드  NaN        렌치    배민  18800   \n",
       "1  B0KC005QKF   배달  바로결제  닭가슴살 샐러드, 훈제연어 샐러드  NaN  오리엔탈, 렌치    배민  11900   \n",
       "\n",
       "    배달팁   결제금액                 주문시각                 접수시각                 배달시각  \\\n",
       "0  2000  20800  2020-01-02 17:58:18  2020-01-02 18:00:26  2020-01-02 18:40:26   \n",
       "1  3000  14900  2020-01-03 11:56:51  2020-01-03 11:57:13  2020-01-03 12:37:13   \n",
       "\n",
       "                     주소 요청사항 배달요청사항  \n",
       "0  전북 전주시 덕진구 금암1동 ****  NaN     []  \n",
       "1   전북 전주시 덕진구 덕진동 ****  NaN     []  "
      ]
     },
     "execution_count": 1,
     "metadata": {},
     "output_type": "execute_result"
    }
   ],
   "source": [
    "import pandas as pd\n",
    "\n",
    "baemin = pd.read_csv('./baemin_compiled.csv')\n",
    "baemin.head(2)"
   ]
  },
  {
   "cell_type": "code",
   "execution_count": 2,
   "metadata": {},
   "outputs": [
    {
     "data": {
      "text/plain": [
       "array(['배달', '포장'], dtype=object)"
      ]
     },
     "execution_count": 2,
     "metadata": {},
     "output_type": "execute_result"
    }
   ],
   "source": [
    "baemin['수령방법'].unique()"
   ]
  },
  {
   "cell_type": "code",
   "execution_count": 3,
   "metadata": {},
   "outputs": [
    {
     "data": {
      "text/html": [
       "<div>\n",
       "<style scoped>\n",
       "    .dataframe tbody tr th:only-of-type {\n",
       "        vertical-align: middle;\n",
       "    }\n",
       "\n",
       "    .dataframe tbody tr th {\n",
       "        vertical-align: top;\n",
       "    }\n",
       "\n",
       "    .dataframe thead th {\n",
       "        text-align: right;\n",
       "    }\n",
       "</style>\n",
       "<table border=\"1\" class=\"dataframe\">\n",
       "  <thead>\n",
       "    <tr style=\"text-align: right;\">\n",
       "      <th></th>\n",
       "      <th>주문번호</th>\n",
       "      <th>수령방법</th>\n",
       "      <th>결제방법</th>\n",
       "      <th>항목</th>\n",
       "      <th>추가선택</th>\n",
       "      <th>드레싱</th>\n",
       "      <th>서비스타입</th>\n",
       "      <th>주문금액</th>\n",
       "      <th>배달팁</th>\n",
       "      <th>결제금액</th>\n",
       "      <th>주문시각</th>\n",
       "      <th>접수시각</th>\n",
       "      <th>배달시각</th>\n",
       "      <th>주소</th>\n",
       "      <th>요청사항</th>\n",
       "      <th>배달요청사항</th>\n",
       "    </tr>\n",
       "  </thead>\n",
       "  <tbody>\n",
       "    <tr>\n",
       "      <th>0</th>\n",
       "      <td>4617750</td>\n",
       "      <td>매장식사</td>\n",
       "      <td>나우웨이팅 POS</td>\n",
       "      <td>목살 샐러드</td>\n",
       "      <td>NaN</td>\n",
       "      <td>발사믹</td>\n",
       "      <td>onsite</td>\n",
       "      <td>6400</td>\n",
       "      <td>0</td>\n",
       "      <td>6400</td>\n",
       "      <td>2020-08-17 18:40:23</td>\n",
       "      <td>-</td>\n",
       "      <td>-</td>\n",
       "      <td>X</td>\n",
       "      <td>NaN</td>\n",
       "      <td>-</td>\n",
       "    </tr>\n",
       "    <tr>\n",
       "      <th>1</th>\n",
       "      <td>4617659</td>\n",
       "      <td>포장</td>\n",
       "      <td>나우웨이팅 POS</td>\n",
       "      <td>닭가슴살 샐러드</td>\n",
       "      <td>강낭콩X</td>\n",
       "      <td>오리엔탈</td>\n",
       "      <td>onsite</td>\n",
       "      <td>5900</td>\n",
       "      <td>0</td>\n",
       "      <td>5900</td>\n",
       "      <td>2020-08-17 18:33:59</td>\n",
       "      <td>-</td>\n",
       "      <td>-</td>\n",
       "      <td>X</td>\n",
       "      <td>NaN</td>\n",
       "      <td>-</td>\n",
       "    </tr>\n",
       "  </tbody>\n",
       "</table>\n",
       "</div>"
      ],
      "text/plain": [
       "      주문번호  수령방법       결제방법        항목  추가선택   드레싱   서비스타입  주문금액  배달팁  결제금액  \\\n",
       "0  4617750  매장식사  나우웨이팅 POS    목살 샐러드   NaN   발사믹  onsite  6400    0  6400   \n",
       "1  4617659    포장  나우웨이팅 POS  닭가슴살 샐러드  강낭콩X  오리엔탈  onsite  5900    0  5900   \n",
       "\n",
       "                  주문시각 접수시각 배달시각 주소  요청사항 배달요청사항  \n",
       "0  2020-08-17 18:40:23    -    -  X   NaN      -  \n",
       "1  2020-08-17 18:33:59    -    -  X   NaN      -  "
      ]
     },
     "execution_count": 3,
     "metadata": {},
     "output_type": "execute_result"
    }
   ],
   "source": [
    "now_waiting = pd.read_csv('./new_data.csv')\n",
    "now_waiting.head(2)"
   ]
  },
  {
   "cell_type": "code",
   "execution_count": 4,
   "metadata": {},
   "outputs": [
    {
     "data": {
      "text/plain": [
       "array(['나우웨이팅 POS'], dtype=object)"
      ]
     },
     "execution_count": 4,
     "metadata": {},
     "output_type": "execute_result"
    }
   ],
   "source": [
    "now_waiting['결제방법'].unique()"
   ]
  },
  {
   "cell_type": "code",
   "execution_count": 5,
   "metadata": {},
   "outputs": [],
   "source": [
    "def method_stats(*l):\n",
    "    df = pd.DataFrame(0, index=['포장', '매장식사'], columns=['키오스크', '챗봇', '배달의민족', '총합', '비율'])\n",
    "    for data in l:\n",
    "        data.loc[data['수령방법'].isnull(), '수령방법'] = 'X'\n",
    "        for idx, row in data.iterrows():\n",
    "            for method in row['수령방법'].replace(',','').split():\n",
    "                if method=='포장':\n",
    "                    if str(row['주문번호'])[0]=='B': df.loc['포장', '배달의민족'] += 1\n",
    "                    else: df.loc['포장', '키오스크'] += 1\n",
    "                elif method == '매장식사':\n",
    "                    if str(row['주문번호'])[0]=='B': df.loc['매장식사', '배달의민족'] += 1\n",
    "                    else: df.loc['매장식사', '키오스크'] += 1\n",
    "    df.loc['포장', '총합'] = df.loc['포장'][:-2].sum()\n",
    "    df.loc['매장식사', '총합'] = df.loc['매장식사'][:-2].sum()\n",
    "    method_total = df['총합'].sum()\n",
    "    df['비율'] = df['총합'].apply(lambda row: f\"{int(round((row/method_total)*100))} %\")\n",
    "    return df"
   ]
  },
  {
   "cell_type": "code",
   "execution_count": 6,
   "metadata": {},
   "outputs": [
    {
     "data": {
      "text/html": [
       "<div>\n",
       "<style scoped>\n",
       "    .dataframe tbody tr th:only-of-type {\n",
       "        vertical-align: middle;\n",
       "    }\n",
       "\n",
       "    .dataframe tbody tr th {\n",
       "        vertical-align: top;\n",
       "    }\n",
       "\n",
       "    .dataframe thead th {\n",
       "        text-align: right;\n",
       "    }\n",
       "</style>\n",
       "<table border=\"1\" class=\"dataframe\">\n",
       "  <thead>\n",
       "    <tr style=\"text-align: right;\">\n",
       "      <th></th>\n",
       "      <th>키오스크</th>\n",
       "      <th>챗봇</th>\n",
       "      <th>배달의민족</th>\n",
       "      <th>총합</th>\n",
       "      <th>비율</th>\n",
       "    </tr>\n",
       "  </thead>\n",
       "  <tbody>\n",
       "    <tr>\n",
       "      <th>포장</th>\n",
       "      <td>867</td>\n",
       "      <td>0</td>\n",
       "      <td>2005</td>\n",
       "      <td>2872</td>\n",
       "      <td>86 %</td>\n",
       "    </tr>\n",
       "    <tr>\n",
       "      <th>매장식사</th>\n",
       "      <td>460</td>\n",
       "      <td>0</td>\n",
       "      <td>0</td>\n",
       "      <td>460</td>\n",
       "      <td>14 %</td>\n",
       "    </tr>\n",
       "  </tbody>\n",
       "</table>\n",
       "</div>"
      ],
      "text/plain": [
       "      키오스크  챗봇  배달의민족    총합    비율\n",
       "포장     867   0   2005  2872  86 %\n",
       "매장식사   460   0      0   460  14 %"
      ]
     },
     "execution_count": 6,
     "metadata": {},
     "output_type": "execute_result"
    }
   ],
   "source": [
    "df = method_stats(baemin, now_waiting)\n",
    "df"
   ]
  },
  {
   "cell_type": "code",
   "execution_count": null,
   "metadata": {},
   "outputs": [],
   "source": []
  }
 ],
 "metadata": {
  "kernelspec": {
   "display_name": "Python 3",
   "language": "python",
   "name": "python3"
  },
  "language_info": {
   "codemirror_mode": {
    "name": "ipython",
    "version": 3
   },
   "file_extension": ".py",
   "mimetype": "text/x-python",
   "name": "python",
   "nbconvert_exporter": "python",
   "pygments_lexer": "ipython3",
   "version": "3.8.1"
  }
 },
 "nbformat": 4,
 "nbformat_minor": 4
}
